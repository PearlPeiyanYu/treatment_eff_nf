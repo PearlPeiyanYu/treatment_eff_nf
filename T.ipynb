{
 "cells": [
  {
   "cell_type": "markdown",
   "metadata": {},
   "source": [
    "## T-nn"
   ]
  },
  {
   "cell_type": "code",
   "execution_count": 17,
   "metadata": {},
   "outputs": [],
   "source": [
    "import numpy as np\n",
    "from random import choice\n",
    "\n",
    "def parse():\n",
    "    ap = argparse.ArgumentParser() \n",
    "    ap.add_argument(\"-size_input\",action ='store',dest = 'n', default = 500000, help =\"data input size\")\n",
    "    ap.add_argument(\"-num_dim\",action ='store',dest = 'd',default = 20,help =\"dimention of each instance\")\n",
    "    ap.add_argument(\"-condition_sim\",action ='store',dest = 'sim',help =\"simulation condition\")\n",
    "    arg = ap.parse_args()\n",
    "    return arg\n",
    "\n",
    "class simulate_data():\n",
    "\n",
    "    def __init__(self, n,d,sim):\n",
    "        super().__init__()\n",
    "        self.n = n\n",
    "        self.d = d\n",
    "        self.sim = sim\n",
    "        \n",
    "    def simulate_feature_vec(self, a=2):\n",
    "        if self.sim == 6:\n",
    "            self.x = x = np.random.uniform(0,1,(self.n,self.d))\n",
    "        else:\n",
    "            # Random states\n",
    "            def get_states(random_state, low, high, size):\n",
    "                rs = np.random.RandomState(random_state)\n",
    "                states = rs.randint(low=low, high=high, size=size)\n",
    "                return states \n",
    "            self.states1 = get_states(random_state=42, low=0, high=100000, size=self.d)\n",
    "            self.states2 = get_states(random_state=1028, low=0, high=100000, size=self.d)\n",
    "            # generate one sequence for raw covariance matrice\n",
    "            def generate_seq(i):\n",
    "                np.random.seed(self.states1[i])\n",
    "                a = np.random.randn(self.d)\n",
    "                np.random.seed(self.states2[i])\n",
    "                b = np.random.randn(1)\n",
    "                return a+b \n",
    "            # Generate random covariance matrice\n",
    "            A = np.matrix([generate_seq(i) for i in range(self.d)])\n",
    "            A = A*np.transpose(A)\n",
    "            D_half = np.diag(np.diag(A)**(-0.5))\n",
    "            C = D_half*A*D_half\n",
    "            # Generate d-dimensional feature vector\n",
    "            mean = np.zeros(self.d)\n",
    "            cov = C\n",
    "            self.x = np.random.multivariate_normal(mean, cov, self.n) # shape (n,d)\n",
    "\n",
    "    def generate_y_act(self):\n",
    "        \n",
    "        def simulate_y1():\n",
    "            # Generate error term matrice\n",
    "            e1 = np.random.randn(self.n)\n",
    "            e0 = np.random.randn(self.n)\n",
    "            # Generate mu\n",
    "            beta = np.random.uniform(-5,5,self.d)\n",
    "            mu0 = np.dot(self.x, beta) +5*(self.x[:,0] > 0.5) \n",
    "            mu1 = mu0 + 8*(self.x[:,1] > 0.1)\n",
    "            # Calculate y\n",
    "            self.y1 = mu1 + e1 # y1:treatement group #y0:control group  \n",
    "            self.y0 = mu0 + e0\n",
    "\n",
    "        def simulate_y2():\n",
    "            # Generate error term matrice\n",
    "            e1 = np.random.randn(self.n)\n",
    "            e0 = np.random.randn(self.n)\n",
    "            # Generate mu\n",
    "            beta0 = np.random.uniform(1,30,self.d)\n",
    "            beta1 = np.random.uniform(1,30,self.d)\n",
    "            mu0 = np.dot(self.x, beta0)\n",
    "            mu1 = np.dot(self.x, beta1)\n",
    "            # Calculate y\n",
    "            self.y1 = mu1 + e1\n",
    "            self.y0 = mu0 + e0\n",
    "\n",
    "        def simulate_y3():\n",
    "            # Generate error term matrice\n",
    "            e1 = np.random.randn(self.n)\n",
    "            e0 = np.random.randn(self.n)\n",
    "            # Generate mu\n",
    "            effect = 4 / (1+np.exp(-12 * ((self.x[:,0]-1)/2))) * (1+np.exp(-12 * ((self.x[:,1]-1)/2)))\n",
    "            mu1 = 0.5 * effect\n",
    "            mu0 = -mu1\n",
    "            # Calculate y\n",
    "            self.y1 = mu1 + e1\n",
    "            self.y0 = mu0 + e0\n",
    "\n",
    "        def simulate_y4():\n",
    "            # Generate error term matrice\n",
    "            e1 = np.random.randn(self.n)\n",
    "            e0 = np.random.randn(self.n)\n",
    "            # Generate mu\n",
    "            beta = np.random.uniform(1,30,self.d)\n",
    "            mu0 = np.dot(self.x, beta)\n",
    "            mu1 = mu0\n",
    "            # Calculate y\n",
    "            self.y1 = mu1 + e1\n",
    "            self.y0 = mu0 + e0\n",
    "\n",
    "        def simulate_y5():\n",
    "            # Generate error term matrice\n",
    "            e1 = np.random.randn(self.n)\n",
    "            e0 = np.random.randn(self.n)\n",
    "            # Generate mu\n",
    "            beta = np.random.uniform(-15,15,self.d)\n",
    "            beta_m_dim = min(self.d,5)\n",
    "            beta_m = beta[0:beta_m_dim]\n",
    "            mu0 = np.zeros(self.n)\n",
    "            mu0[self.x[:,19] < -0.4] = np.dot(self.x[self.x[:,19] < 0.-0.4][:,0:beta_m_dim],beta_m)\n",
    "            mu0[(self.x[:,19] < 0.4) & (self.x[:,19] >= -0.4)] = np.dot(self.x[(self.x[:,19] < 0.4) & (self.x[:,19] >= -0.4)][:,beta_m_dim:(2*beta_m_dim)],beta_m)\n",
    "            mu0[self.x[:,19] >= 0.4] = np.dot(self.x[self.x[:,19] >= 0.4][:,2*beta_m_dim:3*beta_m_dim],beta_m)\n",
    "            mu0 = np.dot(x, beta)\n",
    "            mu1 = mu0\n",
    "            # Calculate y\n",
    "            self.y1 = mu1 + e1\n",
    "            self.y0 = mu0 + e0\n",
    "        \n",
    "        def simulate_y6():\n",
    "            # Generate error term matrice\n",
    "            e1 = np.random.randn(self.n)\n",
    "            e0 = np.random.randn(self.n)\n",
    "            # Generate mu\n",
    "            mu0 = 2 * self.x[:,0] - 1\n",
    "            mu1 = mu0\n",
    "            # Calculate y\n",
    "            self.y1 = mu1 + e1\n",
    "            self.y0 = mu0 + e0\n",
    "    \n",
    "        if self.sim == 0:\n",
    "            simulate_y1()\n",
    "        elif self.sim == 1:\n",
    "            simulate_y1()\n",
    "        elif self.sim == 2:\n",
    "            simulate_y2()\n",
    "        elif self.sim == 3:\n",
    "            simulate_y3()\n",
    "        elif self.sim == 4:\n",
    "            simulate_y4()\n",
    "        elif self.sim == 5:\n",
    "            simulate_y5()\n",
    "        elif self.sim == 6:\n",
    "            simulate_y6()\n",
    "    \n",
    "    def simulate_assignment(self):\n",
    "        if self.sim == 6:\n",
    "            # Different propensity scores\n",
    "            prop_list = 1/4 * (1+ np.random.beta(2,4,self.n))\n",
    "            self.w = np.random.binomial(1,prop_list,self.n)\n",
    "        if self.sim == 0:\n",
    "            self.w = np.random.binomial(1,0.01,self.n)\n",
    "        else:\n",
    "            self.w = np.random.binomial(1,0.5,self.n)\n",
    "        \n",
    "    def generate_assigned_y(self):\n",
    "        self.y_obs = self.y1*self.w - self.y0*(self.w-1)\n",
    "        \n",
    "    def calculate_effect(self):\n",
    "        self.eff_act = self.y1 - self.y0"
   ]
  },
  {
   "cell_type": "code",
   "execution_count": 130,
   "metadata": {},
   "outputs": [],
   "source": [
    "a =simulate_data(500000, 20, 6) \n",
    "a.simulate_feature_vec()\n",
    "a.generate_y_act()\n",
    "a.simulate_assignment()\n",
    "a.generate_assigned_y()\n",
    "a.calculate_effect()"
   ]
  },
  {
   "cell_type": "code",
   "execution_count": 131,
   "metadata": {},
   "outputs": [],
   "source": [
    "import torch\n",
    "import torch.nn as nn\n",
    "import torch.nn.functional as F\n",
    "import matplotlib.pyplot as plt"
   ]
  },
  {
   "cell_type": "code",
   "execution_count": 132,
   "metadata": {},
   "outputs": [],
   "source": [
    "# Split data into training and testing set of assgined groups\n",
    "def split_data(n_train, n_test, x, y_obs, eff_act,w):\n",
    "    x_train, x_test = x[:n_train,:], x[n_train:n_train+n_test,:]\n",
    "    y_obs_train, y_obs_test =  y_obs[:n_train], y_obs[n_train:n_train+n_test]\n",
    "    eff_actual_train, eff_actual_test = eff_act[:n_train], eff_act[n_train:n_train+n_test]\n",
    "    w_train, w_test = w[:n_train], w[n_train:n_train+n_test]\n",
    "    return x_train, x_test, y_obs_train, y_obs_test, eff_actual_train, eff_actual_test, w_train, w_test\n",
    "# x_trt_train, x_trt_test = x_train[np.where(w == 1)], x_train[np.where(w == 0)]"
   ]
  },
  {
   "cell_type": "code",
   "execution_count": 133,
   "metadata": {},
   "outputs": [],
   "source": [
    "# Define forward process\n",
    "class M(nn.Module):\n",
    "    def __init__(self, n_feature,n_hidden, n_output = 1):\n",
    "        super(M, self).__init__() \n",
    "        self.hidden = nn.Linear(n_feature, n_hidden)\n",
    "        self.predict = nn.Linear(n_hidden, n_output)\n",
    "\n",
    "    def forward(self, x):\n",
    "        # Here the forward pass is simply a linear function\n",
    "        x = F.relu(self.hidden(x))\n",
    "        x = self.predict(x)\n",
    "        \n",
    "        return x"
   ]
  },
  {
   "cell_type": "code",
   "execution_count": 63,
   "metadata": {},
   "outputs": [],
   "source": [
    "def evaluate_inf(outputs, target):\n",
    "    mse = (np.square(outputs - target)).mean(axis=None)\n",
    "    return mse"
   ]
  },
  {
   "cell_type": "code",
   "execution_count": 189,
   "metadata": {},
   "outputs": [],
   "source": [
    "n_train = 200000\n",
    "n_test = 2000\n",
    "x = a.x\n",
    "y_obs = a.y_obs\n",
    "eff_act = a.eff_act\n",
    "w = a.w"
   ]
  },
  {
   "cell_type": "code",
   "execution_count": 190,
   "metadata": {},
   "outputs": [],
   "source": [
    "x_train, x_test, y_obs_train, y_obs_test, eff_act_train, eff_act_test,w_train, w_test = split_data(n_train, n_test, x, y_obs, eff_act,w)"
   ]
  },
  {
   "cell_type": "code",
   "execution_count": 191,
   "metadata": {},
   "outputs": [],
   "source": [
    "n_feature = 20 # dimentionality of Xi\n",
    "n_hidden = 40\n",
    "n_output = 1 # Dimensionality of Yi\n",
    "l_rate = 0.01\n",
    "epochs = 700"
   ]
  },
  {
   "cell_type": "code",
   "execution_count": 192,
   "metadata": {},
   "outputs": [],
   "source": [
    "x_trt_train, x_trt_test = x_train[np.where(w_train == 1)], x_test[np.where(w_test == 1)]\n",
    "y_obs_trt_train, y_obs_trt_test = y_obs_train[np.where(w_train == 1)], y_obs_test[np.where(w_test == 1)]\n",
    "\n",
    "x_con_train, x_con_test = x_train[np.where(w_train == 0)], x_test[np.where(w_test == 0)]\n",
    "y_obs_con_train, y_obs_con_test = y_obs_train[np.where(w_train == 0)], y_obs_test[np.where(w_test == 0)]"
   ]
  },
  {
   "cell_type": "code",
   "execution_count": 193,
   "metadata": {},
   "outputs": [
    {
     "name": "stderr",
     "output_type": "stream",
     "text": [
      "C:\\Users\\yupei\\AppData\\anaconda3\\lib\\site-packages\\ipykernel_launcher.py:25: UserWarning: invalid index of a 0-dim tensor. This will be an error in PyTorch 0.5. Use tensor.item() to convert a 0-dim tensor to a Python number\n"
     ]
    },
    {
     "name": "stdout",
     "output_type": "stream",
     "text": [
      "epoch 0, loss 1.3220313787460327\n",
      "epoch 100, loss 1.2792130708694458\n",
      "epoch 200, loss 1.22856605052948\n",
      "epoch 300, loss 1.1695250272750854\n",
      "epoch 400, loss 1.1101353168487549\n",
      "epoch 500, loss 1.0622189044952393\n",
      "epoch 600, loss 1.0318042039871216\n"
     ]
    }
   ],
   "source": [
    "# Train M1 (treatment group)\n",
    "# Define model, loss function and optimizer\n",
    "M_model1 = M(n_feature,n_hidden, n_output)\n",
    "criterion = torch.nn.MSELoss()\n",
    "optimizer1 = torch.optim.SGD(M_model1.parameters(), lr = l_rate) #Stochastic Gradient Descent\n",
    "# Transform input and target to tensor and reshape\n",
    "x_1 = torch.from_numpy(x_trt_train).float() # default is requires_grad=True, no need to add this any more if pytorch version >= 0.4\n",
    "y_1 = torch.from_numpy(y_obs_trt_train).float().unsqueeze(1)\n",
    "# Training\n",
    "for epoch in range(epochs):\n",
    "    outputs = M_model1(x_1) \n",
    "    loss = criterion(outputs, y_1)\n",
    "\n",
    "    optimizer1.zero_grad() # clear gradients for next train\n",
    "    loss.backward() # backprops\n",
    "    optimizer1.step() # update gradients\n",
    "\n",
    "    if epoch % 100 == 0:\n",
    "    # plot and show learning process\n",
    "#        plt.cla()\n",
    "#        plt.scatter(x.data.numpy(), y.data.numpy())\n",
    "#        plt.plot(x.data.numpy(), prediction.data.numpy(), 'r-', lw=5)\n",
    "#        plt.text(0.5, 0, 'Loss=%.4f' % loss.data.numpy(), fontdict={'size': 20, 'color':  'red'})\n",
    "#        plt.pause(0.1)\n",
    "        print('epoch {}, loss {}'.format(epoch,loss.data[0]))"
   ]
  },
  {
   "cell_type": "code",
   "execution_count": 194,
   "metadata": {},
   "outputs": [
    {
     "name": "stderr",
     "output_type": "stream",
     "text": [
      "C:\\Users\\yupei\\AppData\\anaconda3\\lib\\site-packages\\ipykernel_launcher.py:25: UserWarning: invalid index of a 0-dim tensor. This will be an error in PyTorch 0.5. Use tensor.item() to convert a 0-dim tensor to a Python number\n"
     ]
    },
    {
     "name": "stdout",
     "output_type": "stream",
     "text": [
      "epoch 0, loss 1.3498443365097046\n",
      "epoch 100, loss 1.2912932634353638\n",
      "epoch 200, loss 1.239632487297058\n",
      "epoch 300, loss 1.1826764345169067\n",
      "epoch 400, loss 1.1255379915237427\n",
      "epoch 500, loss 1.0785760879516602\n",
      "epoch 600, loss 1.0475597381591797\n"
     ]
    }
   ],
   "source": [
    "# Train M2 (control group)\n",
    "# Define model, loss function and optimizer\n",
    "M_model0 = M(n_feature,n_hidden, n_output)\n",
    "criterion = torch.nn.MSELoss()\n",
    "optimizer0 = torch.optim.SGD(M_model0.parameters(), lr = l_rate) #Stochastic Gradient Descent\n",
    "# Transform input and target to tensor and reshape\n",
    "x_0 = torch.from_numpy(x_con_train).float()\n",
    "y_0 = torch.from_numpy(y_obs_con_train).float().unsqueeze(1)\n",
    "# Training\n",
    "for epoch in range(epochs):\n",
    "    outputs = M_model0(x_0) \n",
    "    loss = criterion(outputs, y_0)\n",
    "\n",
    "    optimizer0.zero_grad() # clear gradients for next train\n",
    "    loss.backward() # backprops\n",
    "    optimizer0.step() # update gradients\n",
    "\n",
    "    if epoch % 100 == 0:\n",
    "    # plot and show learning process\n",
    "#        plt.cla()\n",
    "#        plt.scatter(x.data.numpy(), y.data.numpy())\n",
    "#        plt.plot(x.data.numpy(), prediction.data.numpy(), 'r-', lw=5)\n",
    "#        plt.text(0.5, 0, 'Loss=%.4f' % loss.data.numpy(), fontdict={'size': 20, 'color':  'red'})\n",
    "#        plt.pause(0.1)\n",
    "        print('epoch {}, loss {}'.format(epoch,loss.data[0]))"
   ]
  },
  {
   "cell_type": "code",
   "execution_count": 195,
   "metadata": {},
   "outputs": [],
   "source": [
    "# predict\n",
    "t_x_trt_train = torch.from_numpy(x_trt_train).float()\n",
    "t_x_con_train = torch.from_numpy(x_con_train).float()\n",
    "eff = np.concatenate((eff_act_train[np.where(w_train == 1)], eff_act_train[np.where(w_train == 0)]),0)"
   ]
  },
  {
   "cell_type": "code",
   "execution_count": 196,
   "metadata": {},
   "outputs": [],
   "source": [
    "x = torch.cat((t_x_trt_train,t_x_con_train),0)"
   ]
  },
  {
   "cell_type": "code",
   "execution_count": 197,
   "metadata": {},
   "outputs": [],
   "source": [
    "mu1 = M_model1(x)\n",
    "mu0 = M_model0(x)"
   ]
  },
  {
   "cell_type": "code",
   "execution_count": 198,
   "metadata": {},
   "outputs": [],
   "source": [
    "outputs = mu1-mu0\n",
    "outputs = outputs.data.numpy().reshape((n_train,))\n",
    "target = eff\n",
    "\n",
    "mse = evaluate_inf(outputs, target)"
   ]
  },
  {
   "cell_type": "code",
   "execution_count": 199,
   "metadata": {},
   "outputs": [
    {
     "data": {
      "text/plain": [
       "2.0120472036038977"
      ]
     },
     "execution_count": 199,
     "metadata": {},
     "output_type": "execute_result"
    }
   ],
   "source": [
    "mse"
   ]
  },
  {
   "cell_type": "code",
   "execution_count": null,
   "metadata": {},
   "outputs": [],
   "source": []
  },
  {
   "cell_type": "code",
   "execution_count": null,
   "metadata": {},
   "outputs": [],
   "source": [
    "22.952086731700103"
   ]
  }
 ],
 "metadata": {
  "kernelspec": {
   "display_name": "Python 3",
   "language": "python",
   "name": "python3"
  },
  "language_info": {
   "codemirror_mode": {
    "name": "ipython",
    "version": 3
   },
   "file_extension": ".py",
   "mimetype": "text/x-python",
   "name": "python",
   "nbconvert_exporter": "python",
   "pygments_lexer": "ipython3",
   "version": "3.7.0"
  }
 },
 "nbformat": 4,
 "nbformat_minor": 2
}
