{
 "cells": [
  {
   "cell_type": "markdown",
   "metadata": {},
   "source": [
    "# Data Simulation "
   ]
  },
  {
   "cell_type": "markdown",
   "metadata": {},
   "source": [
    "## Define Functions"
   ]
  },
  {
   "cell_type": "code",
   "execution_count": 2,
   "metadata": {},
   "outputs": [],
   "source": [
    "import numpy as np\n",
    "from random import choice"
   ]
  },
  {
   "cell_type": "code",
   "execution_count": 3,
   "metadata": {},
   "outputs": [],
   "source": [
    "# Generate d-dimensional feature vector\n",
    "def simulate_feature_vec(n, d, a=2):\n",
    "    # Random states\n",
    "    def get_states(random_state, low, high, size):\n",
    "        rs = np.random.RandomState(random_state)\n",
    "        states = rs.randint(low=low, high=high, size=size)\n",
    "        return states\n",
    "    states1 = get_states(random_state=42, low=0, high=100000, size=d)\n",
    "    states2 = get_states(random_state=1028, low=0, high=100000, size=d)    \n",
    "    # generate one sequence for raw covariance matrice\n",
    "    def generate_seq(i):\n",
    "        np.random.seed(states1[i])\n",
    "        a = np.random.randn(d)\n",
    "        np.random.seed(states2[i])\n",
    "        b = np.random.randn(1)\n",
    "        return a+b    \n",
    "    # Generate random covariance matrice\n",
    "    A = np.matrix([generate_seq(i) for i in range(d)])\n",
    "    A = A*np.transpose(A)\n",
    "    D_half = np.diag(np.diag(A)**(-0.5))\n",
    "    C = D_half*A*D_half\n",
    "    # Generate d-dimensional feature vector\n",
    "    mean = np.zeros(d)\n",
    "    cov = C\n",
    "    x = np.random.multivariate_normal(mean, cov, n) \n",
    "    return x # shape (n,d)"
   ]
  },
  {
   "cell_type": "code",
   "execution_count": 4,
   "metadata": {},
   "outputs": [],
   "source": [
    "# Generate potential outcomes\n",
    "def simulate_y1(n,d):\n",
    "    # Generate error term matrice\n",
    "    e1 = np.random.randn(n)\n",
    "    e0 = np.random.randn(n)\n",
    "    # Generate mu\n",
    "    beta = np.random.uniform(-5,5,d)\n",
    "    mu0 = np.dot(x, beta) +5*(x[:,0] > 0.5) \n",
    "    mu1 = mu0 + 8*(x[:,1] > 0.1)\n",
    "    # Calculate y\n",
    "    y1 = mu1 + e1\n",
    "    y0 = mu0 + e0\n",
    "    return y1,y0 # y1:treatement group #y0:control group  "
   ]
  },
  {
   "cell_type": "code",
   "execution_count": 5,
   "metadata": {},
   "outputs": [],
   "source": [
    "# Generate potential outcomes\n",
    "def simulate_y2(n,d):\n",
    "    # Generate error term matrice\n",
    "    e1 = np.random.randn(n)\n",
    "    e0 = np.random.randn(n)\n",
    "    # Generate mu\n",
    "    beta0 = np.random.uniform(1,30,d)\n",
    "    beta1 = np.random.uniform(1,30,d)\n",
    "    mu0 = np.dot(x, beta0)\n",
    "    mu1 = np.dot(x, beta1)\n",
    "    # Calculate y\n",
    "    y1 = mu1 + e1\n",
    "    y0 = mu0 + e0\n",
    "    return y1,y0 # y1:treatement group #y0:control group  "
   ]
  },
  {
   "cell_type": "code",
   "execution_count": 17,
   "metadata": {},
   "outputs": [],
   "source": [
    "# Generate potential outcomes\n",
    "def simulate_y3(n,d):\n",
    "    # Generate error term matrice\n",
    "    e1 = np.random.randn(n)\n",
    "    e0 = np.random.randn(n)\n",
    "    # Generate mu\n",
    "    effect = 4 / (1+np.exp(-12 * ((x[:,0]-1)/2))) * (1+np.exp(-12 * ((x[:,1]-1)/2)))\n",
    "    mu1 = 0.5 * effect\n",
    "    mu0 = -mu1\n",
    "    # Calculate y\n",
    "    y1 = mu1 + e1\n",
    "    y0 = mu0 + e0\n",
    "    return y1,y0 # y1:treatement group #y0:control group  "
   ]
  },
  {
   "cell_type": "code",
   "execution_count": 7,
   "metadata": {},
   "outputs": [],
   "source": [
    "# Generate potential outcomes\n",
    "def simulate_y4(n,d):\n",
    "    # Generate error term matrice\n",
    "    e1 = np.random.randn(n)\n",
    "    e0 = np.random.randn(n)\n",
    "    # Generate mu\n",
    "    beta = np.random.uniform(1,30,d)\n",
    "    mu0 = np.dot(x, beta)\n",
    "    mu1 = mu0\n",
    "    # Calculate y\n",
    "    y1 = mu1 + e1\n",
    "    y0 = mu0 + e0\n",
    "    return y1,y0 # y1:treatement group #y0:control group  "
   ]
  },
  {
   "cell_type": "code",
   "execution_count": 31,
   "metadata": {},
   "outputs": [],
   "source": [
    "# Generate potential outcomes\n",
    "def simulate_y5(n,d):\n",
    "    # Generate error term matrice\n",
    "    e1 = np.random.randn(n)\n",
    "    e0 = np.random.randn(n)\n",
    "    # Generate mu\n",
    "    beta = np.random.uniform(-15,15,d)\n",
    "    beta_m_dim = min(d,5)\n",
    "    beta_m = beta[0:beta_m_dim]\n",
    "    mu0 = np.zeros(n)\n",
    "    mu0[x[:,19] < -0.4] = np.dot(x[x[:,19] < 0.-0.4][:,0:beta_m_dim],beta_m)\n",
    "    mu0[(x[:,19] < 0.4) & (x[:,19] >= -0.4)] = np.dot(x[(x[:,19] < 0.4) & (x[:,19] >= -0.4)][:,beta_m_dim:(2*beta_m_dim)],beta_m)\n",
    "    mu0[x[:,19] >= 0.4] = np.dot(x[x[:,19] >= 0.4][:,2*beta_m_dim:3*beta_m_dim],beta_m)\n",
    "    mu0 = np.dot(x, beta)\n",
    "    mu1 = mu0\n",
    "    # Calculate y\n",
    "    y1 = mu1 + e1\n",
    "    y0 = mu0 + e0\n",
    "    return y1,y0 # y1:treatement group #y0:control group  "
   ]
  },
  {
   "cell_type": "code",
   "execution_count": 36,
   "metadata": {},
   "outputs": [],
   "source": [
    "# Generate potential outcomes\n",
    "def simulate_y6(n,d):\n",
    "    # Generate error term matrice\n",
    "    e1 = np.random.randn(n)\n",
    "    e0 = np.random.randn(n)\n",
    "    # Generate mu\n",
    "    mu0 = 2 * x[:,0] - 1\n",
    "    mu1 = mu0\n",
    "    # Calculate y\n",
    "    y1 = mu1 + e1\n",
    "    y0 = mu0 + e0\n",
    "    return y1,y0 # y1:treatement group #y0:control group "
   ]
  },
  {
   "cell_type": "code",
   "execution_count": 89,
   "metadata": {},
   "outputs": [],
   "source": [
    "# Generate treatment assignment\n",
    "def simulate_assignment(propensity):\n",
    "    w = np.random.binomial(1,propensity,n)\n",
    "    return w\n",
    "\n",
    "# Different propensity scores\n",
    "def simulate_assignment_y6(n):\n",
    "    prop_list = 1/4 * (1+ np.random.beta(2,4,n))\n",
    "    w = np.random.binomial(1,prop_list,n)\n",
    "    return w"
   ]
  },
  {
   "cell_type": "code",
   "execution_count": 10,
   "metadata": {},
   "outputs": [],
   "source": [
    "# Generate assigned y\n",
    "def generate_assigned_y(y1,y0,w):\n",
    "    y_obs = y1*w - y0*(w-1)\n",
    "    return y_obs"
   ]
  },
  {
   "cell_type": "code",
   "execution_count": 11,
   "metadata": {},
   "outputs": [],
   "source": [
    "# Calculate effect\n",
    "def calculate_effect(y1, y0):\n",
    "    eff_act = y1 - y0\n",
    "    return eff_act"
   ]
  },
  {
   "cell_type": "markdown",
   "metadata": {},
   "source": [
    "## Give parameters and generate data"
   ]
  },
  {
   "cell_type": "code",
   "execution_count": 45,
   "metadata": {},
   "outputs": [],
   "source": [
    "# Simulation_1_a: Unbalanced\n",
    "# Parameters\n",
    "n = 500000 # number of samples \n",
    "d = 20 # dimentionality of Xi\n",
    "a = 2 # Concentration of covariance matrix 1, -1,0\n",
    "propensity = 0.01 # propensity score of Bernouli distribution of Y\n",
    "\n",
    "# Generate data\n",
    "x = simulate_feature_vec(n,d) \n",
    "y1, y0 = simulate_y1(n,d)\n",
    "w = simulate_assignment(propensity)\n",
    "y_obs = generate_assigned_y(y1,y0,w)\n",
    "eff_act = calculate_effect(y1, y0)"
   ]
  },
  {
   "cell_type": "code",
   "execution_count": 14,
   "metadata": {},
   "outputs": [],
   "source": [
    "# Simulation_1_b: Unbalanced\n",
    "# Parameters\n",
    "n = 500000 # number of samples \n",
    "d = 20 # dimentionality of Xi\n",
    "a = 2 # Concentration of covariance matrix 1, -1,0\n",
    "propensity = 0.5 # propensity score of Bernouli distribution of Y\n",
    "\n",
    "# Generate data\n",
    "x = simulate_feature_vec(n,d) \n",
    "y1, y0 = simulate_y1(n,d)\n",
    "w = simulate_assignment(propensity)\n",
    "y_obs = generate_assigned_y(y1,y0,w)\n",
    "eff_act = calculate_effect(y1, y0)"
   ]
  },
  {
   "cell_type": "code",
   "execution_count": 15,
   "metadata": {},
   "outputs": [],
   "source": [
    "# Simulation_2\n",
    "# Parameters\n",
    "n = 500000 # number of samples \n",
    "d = 20 # dimentionality of Xi\n",
    "a = 2 # Concentration of covariance matrix 1, -1,0\n",
    "propensity = 0.5 # propensity score of Bernouli distribution of Y\n",
    "\n",
    "# Generate data\n",
    "x = simulate_feature_vec(n,d) \n",
    "y1, y0 = simulate_y2(n,d)\n",
    "w = simulate_assignment(propensity)\n",
    "y_obs = generate_assigned_y(y1,y0,w)\n",
    "eff_act = calculate_effect(y1, y0)"
   ]
  },
  {
   "cell_type": "code",
   "execution_count": 18,
   "metadata": {},
   "outputs": [],
   "source": [
    "# Simulation_3\n",
    "# Parameters\n",
    "n = 500000 # number of samples \n",
    "d = 20 # dimentionality of Xi\n",
    "a = 2 # Concentration of covariance matrix 1, -1,0\n",
    "propensity = 0.5 # propensity score of Bernouli distribution of Y\n",
    "\n",
    "# Generate data\n",
    "x = simulate_feature_vec(n,d) \n",
    "y1, y0 = simulate_y3(n,d)\n",
    "w = simulate_assignment(propensity)\n",
    "y_obs = generate_assigned_y(y1,y0,w)\n",
    "eff_act = calculate_effect(y1, y0)"
   ]
  },
  {
   "cell_type": "code",
   "execution_count": 19,
   "metadata": {},
   "outputs": [],
   "source": [
    "# Simulation_4\n",
    "# Parameters\n",
    "n = 500000 # number of samples \n",
    "d = 20 # dimentionality of Xi\n",
    "a = 2 # Concentr ation of covariance matrix 1, -1,0\n",
    "propensity = 0.5 # propensity score of Bernouli distribution of Y\n",
    "\n",
    "# Generate data\n",
    "x = simulate_feature_vec(n,d) \n",
    "y1, y0 = simulate_y4(n,d)\n",
    "w = simulate_assignment(propensity)\n",
    "y_obs = generate_assigned_y(y1,y0,w)\n",
    "eff_act = calculate_effect(y1, y0)"
   ]
  },
  {
   "cell_type": "code",
   "execution_count": 32,
   "metadata": {},
   "outputs": [],
   "source": [
    "# Simulation_5\n",
    "# Parameters\n",
    "n = 500000 # number of samples \n",
    "d = 20 # dimentionality of Xi\n",
    "a = 2 # Concentration of covariance matrix 1, -1,0\n",
    "propensity = 0.5 # propensity score of Bernouli distribution of Y\n",
    "\n",
    "# Generate data\n",
    "x = simulate_feature_vec(n,d) \n",
    "y1, y0 = simulate_y5(n,d)\n",
    "w = simulate_assignment(propensity)\n",
    "y_obs = generate_assigned_y(y1,y0,w)\n",
    "eff_act = calculate_effect(y1, y0)"
   ]
  },
  {
   "cell_type": "code",
   "execution_count": 90,
   "metadata": {},
   "outputs": [],
   "source": [
    "# Simulation_6\n",
    "# Parameters\n",
    "n = 500000 # number of samples \n",
    "d = 20 # dimentionality of Xi\n",
    "a = 2 # Concentration of covariance matrix 1, -1,0\n",
    "\n",
    "# Generate Data\n",
    "x = np.random.uniform(0,1,(n,d)) \n",
    "y1, y0 = simulate_y6(n,d)\n",
    "w = simulate_assignment_y6(n)\n",
    "y_obs = generate_assigned_y(y1,y0,w)\n",
    "eff_act = calculate_effect(y1, y0)"
   ]
  }
 ],
 "metadata": {
  "kernelspec": {
   "display_name": "Python 3",
   "language": "python",
   "name": "python3"
  },
  "language_info": {
   "codemirror_mode": {
    "name": "ipython",
    "version": 3
   },
   "file_extension": ".py",
   "mimetype": "text/x-python",
   "name": "python",
   "nbconvert_exporter": "python",
   "pygments_lexer": "ipython3",
   "version": "3.7.0"
  }
 },
 "nbformat": 4,
 "nbformat_minor": 2
}
